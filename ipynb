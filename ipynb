#!/usr/bin/env python
# coding: utf-8

# Install required dependencies manually in cmd before running the script:
# pip install transformers flask flask-cors numpy opencv-python tensorflow werkzeug torch pillow

from transformers import ViTFeatureExtractor, ViTForImageClassification
from PIL import Image
import torch
from flask import Flask, request, jsonify
from flask_cors import CORS

# Load the pre-trained Vision Transformer model
model_name = "facebook/deit-base-distilled-patch16-224"
model = ViTForImageClassification.from_pretrained(model_name)
feature_extractor = ViTFeatureExtractor.from_pretrained(model_name)

def predict(image_path):
    """Predict the class of an image using the Vision Transformer model."""
    image = Image.open(image_path).convert("RGB")

    # Resize image to match model input size (224x224)
    image = image.resize((224, 224))

    inputs = feature_extractor(images=image, return_tensors="pt")
    outputs = model(**inputs)
    logits = outputs.logits
    predicted_class = logits.argmax(-1).item()

    return predicted_class  # Modify based on actual class labels if needed

# Flask application setup
app = Flask(__name__)
CORS(app)

@app.route('/predict', methods=['POST'])
def upload_image():
    """API endpoint to receive an image and return a prediction."""
    if 'file' not in request.files:
        return jsonify({"error": "No file uploaded"}), 400

    file = request.files['file']
    file_path = "uploaded_image.jpg"
    file.save(file_path)

    prediction = predict(file_path)  
    return jsonify({"prediction": prediction})

if __name__ == '__main__':
    app.run(debug=True)

